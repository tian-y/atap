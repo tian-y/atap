{
 "cells": [
  {
   "cell_type": "code",
   "execution_count": 8,
   "id": "d08d07f8",
   "metadata": {
    "scrolled": true
   },
   "outputs": [
    {
     "name": "stderr",
     "output_type": "stream",
     "text": [
      "[nltk_data] Downloading package punkt to /Users/yutian/nltk_data...\n",
      "[nltk_data]   Unzipping tokenizers/punkt.zip.\n"
     ]
    }
   ],
   "source": [
    "#!/usr/bin/env python3\n",
    "\n",
    "import nltk\n",
    "from collections import Counter\n",
    "# nltk.download('punkt') # punkt is an unsupervised model and can be used on data without labels\n",
    "\n",
    "MALE = 'male'\n",
    "FEMALE = 'female'\n",
    "UNKNOWN = 'unknown'\n",
    "BOTH = 'both'\n",
    "# what is set? \n",
    "MALE_WORDS = set([\n",
    "    'guy','spokesman','chairman',\"men's\",'men','him',\"he's\",'his',\n",
    "    'boy','boyfriend','boyfriends','boys','brother','brothers','dad',\n",
    "    'dads','dude','father','fathers','fiance','gentleman','gentlemen',\n",
    "    'god','grandfather','grandpa','grandson','groom','he','himself',\n",
    "    'husband','husbands','king','male','man','mr','nephew','nephews',\n",
    "    'priest','prince','son','sons','uncle','uncles','waiter','widower',\n",
    "    'widowers'\n",
    "])\n",
    "\n",
    "FEMALE_WORDS = set([\n",
    "    'heroine','spokeswoman','chairwoman',\"women's\",'actress','women',\n",
    "    \"she's\",'her','aunt','aunts','bride','daughter','daughters','female',\n",
    "    'fiancee','girl','girlfriend','girlfriends','girls','goddess',\n",
    "    'granddaughter','grandma','grandmother','herself','ladies','lady',\n",
    "    'mom','moms','mother','mothers','mrs','ms','niece','nieces',\n",
    "    'priestess','princess','queens','she','sister','sisters','waitress',\n",
    "    'widow','widows','wife','wives','woman'\n",
    "])"
   ]
  },
  {
   "cell_type": "code",
   "execution_count": 16,
   "id": "99b05b65",
   "metadata": {},
   "outputs": [],
   "source": [
    "def genderize(words):\n",
    "\n",
    "    mwlen = len(MALE_WORDS.intersection(words))\n",
    "    fwlen = len(FEMALE_WORDS.intersection(words))\n",
    "\n",
    "    if mwlen > 0 and fwlen == 0:\n",
    "        return MALE\n",
    "    elif mwlen == 0 and fwlen > 0:\n",
    "        return FEMALE\n",
    "    elif mwlen > 0 and fwlen > 0:\n",
    "        return BOTH\n",
    "    else:\n",
    "        return UNKNOWN"
   ]
  },
  {
   "cell_type": "code",
   "execution_count": 17,
   "id": "f5c2369a",
   "metadata": {},
   "outputs": [
    {
     "data": {
      "text/plain": [
       "0"
      ]
     },
     "execution_count": 17,
     "metadata": {},
     "output_type": "execute_result"
    }
   ],
   "source": [
    "words = \"I love men but I don't like son\"\n",
    "len(MALE_WORDS.intersection(words))\n",
    "# no results, this means that the text needs to be processed"
   ]
  },
  {
   "cell_type": "code",
   "execution_count": 18,
   "id": "0bf9d114",
   "metadata": {},
   "outputs": [],
   "source": [
    "def count_gender(sentences):\n",
    "\n",
    "    sents = Counter()\n",
    "    words = Counter()\n",
    "\n",
    "    for sentence in sentences:\n",
    "        gender = genderize(sentence)\n",
    "        sents[gender] += 1\n",
    "        words[gender] += len(sentence)\n",
    "\n",
    "    return sents, words"
   ]
  },
  {
   "cell_type": "code",
   "execution_count": 21,
   "id": "079acaeb",
   "metadata": {},
   "outputs": [
    {
     "data": {
      "text/plain": [
       "'unknown'"
      ]
     },
     "execution_count": 21,
     "metadata": {},
     "output_type": "execute_result"
    }
   ],
   "source": [
    "sentences = set([words, words])\n",
    "genderize(sentences)\n",
    "count_gender(sentences)"
   ]
  },
  {
   "cell_type": "code",
   "execution_count": 22,
   "id": "b79d9ddc",
   "metadata": {},
   "outputs": [],
   "source": [
    "def parse_gender(text):\n",
    "\n",
    "    sentences = [\n",
    "        [word.lower() for word in nltk.word_tokenize(sentence)]\n",
    "        for sentence in nltk.sent_tokenize(text)\n",
    "    ]\n",
    "\n",
    "    sents, words = count_gender(sentences)\n",
    "    total = sum(words.values())\n",
    "\n",
    "    for gender, count in words.items():\n",
    "        pcent = (count / total) * 100\n",
    "        nsents = sents[gender]\n",
    "\n",
    "        print(\n",
    "            \"{:0.3f}% {} ({} sentences)\".format(pcent, gender, nsents)\n",
    "        )"
   ]
  },
  {
   "cell_type": "code",
   "execution_count": 25,
   "id": "c123e124",
   "metadata": {},
   "outputs": [],
   "source": [
    "with open('/Users/yutian/Dropbox/Python/atap/snippets/ch01/ballet.txt', 'r') as f:\n",
    "    f_read = f.read()\n",
    "# print(f_read)\n",
    "# f_read is the raw text"
   ]
  },
  {
   "cell_type": "code",
   "execution_count": 35,
   "id": "2b9a3dda",
   "metadata": {},
   "outputs": [
    {
     "name": "stdout",
     "output_type": "stream",
     "text": [
      "[['with', 'apologies', 'to', 'james', 'brown', ',', 'the', 'hardest', 'working', 'people', 'in', 'show', 'business', 'may', 'well', 'be', 'ballet', 'dancers', '.'], ['and', 'at', 'new', 'york', 'city', 'ballet', ',', 'none', 'work', 'harder', 'than', 'the', 'dancers', 'in', 'its', 'lowest', 'rank', ',', 'the', 'corps', 'de', 'ballet', '.'], ['during', 'the', 'first', 'week', 'of', 'the', 'company', '’', 's', 'winter', 'season', ',', 'claire', 'kretzschmar', ',', '24', ',', 'a', 'rising', 'corps', 'member', ',', 'danced', 'in', 'all', 'seven', 'performances', ',', 'appearing', 'in', 'five', 'ballets', ',', 'sometimes', 'changing', 'costumes', 'at', 'intermission', 'to', 'dance', 'two', 'roles', 'in', 'a', 'night', '.'], ['but', 'her', 'work', 'onstage', 'did', 'not', 'even', 'begin', 'to', 'capture', 'the', 'stamina', 'required', 'to', 'be', 'in', 'the', 'corps', '.'], ['spending', 'a', 'week', 'shadowing', 'ms.', 'kretzschmar', 'was', 'exhausting', '—', 'she', 'gave', 'new', 'meaning', 'to', 'the', 'idea', 'of', 'being', 'on', 'your', 'feet', 'all', 'day', '.'], ['twelve-hour', 'days', 'at', 'the', 'david', 'h.', 'koch', 'theater', ',', 'the', 'company', '’', 's', 'lincoln', 'center', 'home', ',', 'were', 'hardly', 'unusual', ':', 'company', 'class', 'each', 'morning', 'was', 'followed', 'by', 'back-to-back-to-back', 'rehearsals', ',', 'with', 'occasional', 'breaks', 'for', 'costume', 'fittings', 'or', 'physical', 'therapy', ',', 'and', 'then', 'by', 'the', 'hair-makeup-costume-dance', 'routine', 'of', 'daily', 'performances', '.'], ['video', 'every', 'day', ',', 'claire', 'kretzschmar', 'of', 'the', 'new', 'york', 'city', 'ballet', 'goes', 'from', 'class', 'to', 'rehearsal', 'to', 'performance', 'at', 'a', 'breathless', 'pace', '.'], ['dance', 'alongside', 'her', 'busy', 'day', '.'], ['credit', 'photograph', 'by', 'sasha', 'arutyunova', 'for', 'the', 'new', 'york', 'times', '.'], ['technology', 'by', 'samsung', '.'], ['publish', 'date', 'january', '27', ',', '2017', 'this', 'weekend', 'will', 'be', 'even', 'more', 'frenetic', '.'], ['ms.', 'kretzschmar', 'will', 'appear', 'in', 'seven', 'ballets', 'from', 'friday', 'evening', 'to', 'sunday', 'afternoon', ',', 'when', 'she', 'faces', 'a', 'new', 'test', ':', 'taking', 'on', 'the', 'title', 'role', 'of', 'the', 'sleepwalker', 'in', 'george', 'balanchine', '’', 's', 'eerie', ',', 'proto-goth', 'ballet', '“', 'la', 'sonnambula.', '”', 'balanchine', ',', 'one', 'of', 'ballet', '’', 's', 'most', 'important', 'choreographers', ',', 'was', 'a', 'founder', 'of', 'city', 'ballet', ',', 'and', 'remains', 'its', 'guiding', 'spirit', 'more', 'than', 'three', 'decades', 'after', 'his', 'death', '.'], ['being', 'in', 'city', 'ballet', '’', 's', 'corps', 'is', 'not', 'like', 'being', 'a', 'member', 'of', 'a', 'chorus', 'line', ',', 'or', 'a', 'backup', 'singer', '.'], ['the', 'company', 'promotes', 'almost', 'all', 'of', 'its', 'stars', ',', 'the', 'principal', 'dancers', ',', 'from', 'within', '.'], ['so', 'while', 'the', 'corps', 'is', 'expected', 'to', 'be', 'able', 'to', 'move', 'in', 'startling', 'unison', ',', 'like', 'a', 'school', 'of', 'fish', ',', 'and', 'to', 'assemble', 'in', 'straight', 'lines', 'and', 'keep', 'all', 'rippling', 'swan', 'arms', 'parallel', ',', 'its', '54', 'members', 'are', 'also', 'competing', 'for', 'bigger', 'roles', 'and', 'promotions', '.'], ['“', 'there', 'is', 'an', 'element', 'of', 'competition', ',', 'and', 'people', 'get', 'different', 'opportunities', ',', 'but', 'everybody', 'just', 'wants', 'to', 'do', 'their', 'best', 'onstage', ',', 'and', 'everyone', 'wants', 'each', 'other', 'to', 'just', 'do', 'their', 'best', 'onstage', ',', '”', 'ms.', 'kretzschmar', 'said', 'during', 'a', 'break', 'between', 'rehearsals', 'last', 'week', '.'], ['“', 'we', 'have', 'all', 'experienced', 'so', 'many', 'extreme', 'highs', 'and', 'lows', 'that', 'it', '’', 's', 'almost', 'that', 'you', 'have', 'to', 'bond', 'with', 'this', 'group', 'of', 'people.', '”', 'here', 'are', 'scenes', 'from', 'one', 'week', 'in', 'the', 'busy', 'life', 'of', 'a', 'corps', 'member', '.'], ['image', 'ms.', 'kretzschmar', 'at', 'a', 'morning', 'company', 'dance', 'class', ',', 'followed', 'by', 'back-to-back-to-back', 'rehearsals', '.'], ['creditsasha', 'arutyunova', 'for', 'the', 'new', 'york', 'times', 'tuesday', ',', 'opening', 'day', '10:09', 'a.m.', 'company', 'class', ',', '‘', 'nothing', 'fancy', '’', 'ms.', 'kretzschmar', 'arrives', 'early', 'in', 'the', 'large', 'studio', 'on', 'the', 'koch', '’', 's', 'fifth', 'floor', ',', 'stakes', 'out', 'her', 'regular', 'spot', 'at', 'the', 'barre', 'in', 'the', 'back', 'corner', ',', 'and', 'wraps', 'her', 'toes', 'in', 'paper', 'towels', 'before', 'slipping', 'on', 'her', 'point', 'shoes', '.'], ['dancers', 'soon', 'fill', 'the', 'room', '.'], ['unity', 'phelan', 'and', 'brittany', 'pollack', 'bring', 'their', 'dogs', '.'], ['peter', 'martins', ',', 'the', 'company', '’', 's', 'ballet', 'master', 'in', 'chief', ',', 'strides', 'in', ',', 'coffee', 'cup', 'in', 'hand', ',', 'and', 'puts', 'the', 'whole', 'company', 'through', 'its', 'paces', ',', 'as', 'the', 'rehearsal', 'pianist', 'plays', 'gershwin', '.'], ['later', 'he', 'says', ':', '“', 'george', 'balanchine', 'used', 'to', 'tell', 'me', ',', '‘', 'you', 'know', 'what', 'class', 'is', 'about', ',', 'dear', '?', '’', 'he', 'said', ',', '‘', 'what', 'we', 'do', 'is', 'we', 'brush', 'teeth', ',', 'we', 'clean', 'teeth', 'every', 'morning', '.'], ['nothing', 'fancy', ':', 'we', 'just', 'keep', 'the', 'essentials', 'pure.', '’', '”', '11:30', 'a.m.', 'rehearsal', 'studio', 'after', 'class', ',', 'ms.', 'kretzschmar', '—', 'who', 'studied', 'ballet', 'while', 'growing', 'up', 'in', 'north', 'carolina', ',', 'came', 'to', 'new', 'york', 'to', 'study', 'at', 'the', 'school', 'of', 'american', 'ballet', ',', 'the', 'company', '’', 's', 'official', 'school', ',', 'and', 'joined', 'the', 'corps', 'in', '2011', '—', 'stays', 'in', 'the', 'studio', 'to', 'observe', 'a', 'rehearsal', 'of', 'a', 'dance', 'she', 'is', 'learning', ',', 'and', 'then', 'watches', 'a', 'new', 'pontus', 'lidberg', 'ballet', 'for', 'which', 'she', 'is', 'an', 'understudy', '.'], ['at', '1', 'p.m.', ',', 'she', 'finally', 'gets', 'on', 'her', 'toes', 'for', 'a', 'rehearsal', 'of', '“', 'fearful', 'symmetries', ',', '”', 'a', 'demanding', ',', 'propulsive', 'ballet', 'choreographed', 'by', 'mr.', 'martins', 'that', 'she', 'was', 'given', 'a', 'principal', 'role', 'in', '.'], ['she', 'pauses', 'to', 'ask', 'how', 'to', 'time', 'a', 'climactic', 'gesture', 'in', 'which', 'she', 'rests', 'her', 'head', 'on', 'her', 'partner', '’', 's', 'palm', '.'], ['“', 'it', '’', 's', 'a', 'hail', 'mary', ',', '”', 'the', 'ballet', 'master', ',', 'kathleen', 'tracey', ',', 'tells', 'her', '.'], ['“', 'hope', 'for', 'the', 'best', '!', '”', 'image', 'ms.', 'kretzschmar', 'in', 'a', 'rehearsal', 'at', 'the', 'david', 'h.', 'koch', 'theater', '.'], ['“', 'there', 'is', 'an', 'element', 'of', 'competition', ',', '”', 'she', 'said', ',', '“', 'but', 'everybody', 'just', 'wants', 'to', 'do', 'their', 'best', 'onstage', ',', 'and', 'everyone', 'wants', 'each', 'other', 'to', 'just', 'do', 'their', 'best', 'onstage.', '”', 'creditsasha', 'arutyunova', 'for', 'the', 'new', 'york', 'times', '2:20', 'p.m.', 'sleepwalking', 'onstage', 'the', 'wig', 'needs', 'combing', '.'], ['few', 'characters', 'in', 'ballet', 'make', 'as', 'lasting', 'an', 'impression', 'as', 'the', 'sleepwalker', ',', 'an', 'enigmatic', 'character', 'with', 'long', ',', 'flowing', 'hair', 'who', 'makes', 'her', 'unseeing', 'entrance', 'on', 'point', ',', 'holding', 'a', 'candle', '.'], ['but', 'when', 'ms.', 'kretzschmar', 'first', 'steps', 'out', 'onstage', 'in', 'her', 'new', 'wig', ',', 'the', 'action', 'briefly', 'stops', ',', 'as', 'the', 'ballet', 'masters', 'confer', 'with', 'suzy', 'alvarez', ',', 'the', 'company', '’', 's', 'hair', 'and', 'makeup', 'supervisor', ',', 'about', 'how', 'they', 'want', 'the', 'wig', 'to', 'look', '.'], ['it', 'was', 'the', 'wig', 'that', 'first', 'tipped', 'ms.', 'kretzschmar', 'off', 'that', 'she', 'was', 'getting', 'the', 'part', ';', 'even', 'before', 'the', 'casting', 'was', 'announced', 'she', 'was', 'summoned', 'to', 'a', 'fitting', '.'], ['“', 'i', 'don', '’', 't', 'think', 'they', 'would', 'give', 'me', 'a', 'wig', 'if', 'i', 'wasn', '’', 't', 'going', 'to', 'do', 'it', ',', '”', 'she', 'said', '.'], ['the', 'dancers', 'work', 'on', 'one-year', 'contracts', '.'], ['corps', 'members', 'earn', 'roughly', '$', '1,100', 'to', '$', '2,100', 'a', 'week', ',', 'depending', 'on', 'seniority', ',', 'and', 'are', 'typically', 'paid', 'for', '37', 'to', '39', 'weeks', 'a', 'year', '.'], ['since', 'ballet', 'careers', 'are', 'short', ',', 'many', 'are', 'in', 'a', 'hurry', 'to', 'make', 'their', 'marks', '.'], ['giving', 'corps', 'members', 'a', 'shot', 'at', 'big', 'roles', 'like', 'this', 'is', 'part', 'of', 'the', 'ethos', 'of', 'city', 'ballet', '.'], ['“', 'you', 'test', 'them', ',', '”', 'mr.', 'martins', 'said', '.'], ['“', 'what', 'are', 'they', 'made', 'of', '?'], ['am', 'i', 'wrong', ',', 'am', 'i', 'right', '?'], ['you', 'throw', 'little', 'bones', 'to', 'them', 'and', 'see', 'how', 'they', 'react.', '”', 'image', 'ms.', 'kretzschmar', 'at', 'a', 'dress', 'rehearsal', 'of', '“', 'swan', 'lake.', '”', 'creditsasha', 'arutyunova', 'for', 'the', 'new', 'york', 'times', '3:10', 'p.m.', 'costume', 'fitting', ':', 'tutus', 'and', 'hoodies', 'city', 'ballet', '’', 's', 'costume', 'shop', '—', 'acres', 'of', 'tulle', 'and', 'tutus', '—', 'is', 'tucked', 'away', 'on', 'the', 'eighth', 'floor', 'of', 'the', 'rose', 'building', 'at', 'lincoln', 'center', '.'], ['fittings', 'here', 'offer', 'a', 'brief', 'respite', 'from', 'the', 'theater', 'and', 'a', 'breath', 'of', 'fresh', 'air', '.'], ['ms.', 'kretzschmar', 'tries', 'on', 'the', 'black', 'hoodie', ',', 'skirt', 'and', 'high-top', 'sneakers', 'she', 'will', 'wear', 'in', 'justin', 'peck', '’', 's', 'new', 'ballet', ',', '“', 'the', 'times', 'are', 'racing.', '”', 'then', 'it', 'was', 'back', 'to', 'the', 'theater', 'for', 'one', 'more', 'rehearsal', 'and', 'then', 'opening', 'night', ',', 'where', 'she', 'danced', 'in', 'balanchine', '’', 's', '“', 'firebird', ',', '”', 'the', 'last', 'ballet', 'on', 'the', 'evening', '’', 's', 'triple', 'bill', '.'], ['image', 'a', '15-minute', 'physical', 'therapy', 'session', '.'], ['her', 'left', 'foot', ',', 'which', 'she', 'injured', 'in', 'the', 'past', ',', '“', 'gets', 'tighter', 'quicker', 'than', 'the', 'right', 'one', ',', '”', 'ms.', 'kretzschmar', 'says', '.'], ['creditsasha', 'arutyunova', 'for', 'the', 'new', 'york', 'times', 'wednesday', '1:30', 'p.m', '.'], ['physical', 'therapy', 'ballet', 'is', 'a', 'physically', 'punishing', ',', 'sometimes', 'dangerous', 'business', ':', 'injuries', 'are', 'all', 'too', 'common', 'and', 'can', 'lead', 'to', 'missed', 'performances', 'and', 'careers', 'cut', 'short', '.'], ['ms.', 'kretzschmar', 'signs', 'up', 'for', '15-minute', 'physical', 'therapy', 'sessions', 'in', 'a', 'small', 'space', 'resembling', 'a', 'doctor', '’', 's', 'office', 'on', 'the', 'fifth', 'floor', 'of', 'the', 'theater', '.'], ['she', 'lies', 'on', 'a', 'table', 'and', 'taryn', 'khong', ',', 'the', 'therapist', ',', 'manipulates', 'her', 'left', 'foot', ',', 'which', 'ms.', 'kretzschmar', 'has', 'injured', 'in', 'the', 'past', '.'], ['“', 'it', 'gets', 'tighter', 'quicker', 'than', 'the', 'right', 'one', ',', '”', 'she', 'said', '.'], ['4:18', 'p.m.', ':', '‘', 'fearful', 'symmetries', '’', 'rehearsal', 'ms.', 'kretzschmar', 'begins', 'her', 'third', 'stage', 'rehearsal', 'of', 'the', 'day', '.'], ['mr.', 'martins', ',', 'who', 'choreographed', 'the', 'piece', ',', 'makes', 'a', 'request', ':', 'at', 'one', 'point', ',', 'when', 'she', 'thrusts', 'her', 'leg', 'behind', 'her', ',', 'he', 'wants', 'her', 'to', 'bend', 'it', 'to', 'one', 'side', ',', 'forming', 'a', 'sort', 'of', 'arabesque-with-a-twist', '.'], ['ms.', 'tracey', ',', 'the', 'ballet', 'master', 'leading', 'the', 'rehearsal', ',', 'demonstrates', '.'], ['“', 'that', ',', 'exactly', ',', '”', 'mr.', 'martins', 'says', '.'], ['ms.', 'kretzschmar', 'tries', 'once', 'more', 'to', 'execute', 'the', 'twisting', 'step', ',', 'which', 'some', 'dancers', 'call', '“', 'crack', 'your', 'back', '”', 'because', 'it', 'looks', 'as', 'if', 'it', 'might', '.'], ['image', 'a', 'makeup', 'session', 'before', 'dancing', '“', 'swan', 'lake.', '”', 'creditsasha', 'arutyunova', 'for', 'the', 'new', 'york', 'times', '6:40', 'p.m', '.'], ['hair', 'and', 'makeup', ':', 'head', ',', 'meet', 'bun', 'time', 'to', 'become', 'a', 'swan', '.'], ['“', 'swan', 'lake', '”', 'is', 'one', 'of', 'the', 'most', 'famous', 'ballets', 'of', 'them', 'all', ',', 'and', 'balanchine', '’', 's', 'unusual', 'one-act', 'take', 'on', 'it', 'has', 'plenty', 'of', 'dancing', 'for', 'the', 'corps', 'members', 'playing', 'swans', '.'], ['sitting', 'at', 'a', 'light-bulb-ringed', 'mirror', 'in', 'the', 'hair', 'and', 'makeup', 'room', ',', 'ms.', 'kretzschmar', 'applies', 'eyeliner', 'and', 'puts', 'her', 'hair', 'in', 'a', 'neat', 'bun', '.'], ['a', 'hairdresser', 'calls', 'across', 'the', 'room', 'to', 'ask', 'all', 'the', 'swans', 'to', 'make', 'sure', 'that', 'some', 'hair', 'can', 'be', 'seen', 'beneath', 'their', 'matching', 'black', 'headdresses', ',', 'which', 'come', 'to', 'a', 'point', 'in', 'the', 'center', 'of', 'their', 'foreheads', '—', 'lest', 'they', 'start', 'to', 'look', 'like', 'a', 'member', 'of', '“', 'the', 'munsters', '”', 'family', 'with', 'widow', '’', 's', 'peaks', '.'], ['“', 'good', 'evening', 'everyone', ',', 'this', 'is', 'your', 'half-hour', 'call', ',', '”', 'a', 'voice', 'says', 'over', 'a', 'loudspeaker', '.'], ['7', 'p.m.', 'dressing', 'room', ':', 'living', 'out', 'of', 'a', 'theater', 'case', 'in', 'the', 'fourth-floor', 'dressing', 'room', 'she', 'shares', 'with', 'other', 'corps', 'women', ',', 'ms.', 'kretzschmar', 'pins', 'on', 'her', 'headdress', '.'], ['this', 'is', 'her', 'corner', 'of', 'the', 'theater', '.'], ['it', 'consists', 'of', 'a', 'mirror', ',', 'a', 'hanging', 'closet', 'shelf', 'crammed', 'with', 'leotards', ',', 'tights', 'and', 'clothes', ',', 'and', 'her', 'theater', 'case', '—', 'one', 'of', 'the', 'old-fashioned', 'black', 'rectangular', 'cases', 'that', 'dancers', 'live', 'out', 'of', 'and', 'tour', 'with', '.'], ['hers', 'sits', 'open', 'on', 'a', 'luggage', 'rack', ';', 'as', 'is', 'traditional', ',', 'the', 'inside', 'lid', 'is', 'decorated', 'with', 'personal', 'mementos', '.'], ['image', 'claire', 'kretzschmar', 'of', 'new', 'york', 'city', 'ballet', 'preparing', 'for', 'a', 'rehearsal', 'of', '“', 'the', 'four', 'temperaments', '”', 'at', 'the', 'david', 'h.', 'koch', 'theater', '.'], ['creditphotograph', 'by', 'sasha', 'arutyunova', 'for', 'the', 'new', 'york', 'times', '.'], ['technology', 'by', 'samsung', '.'], ['7:25', 'p.m', '.'], ['the', 'wings', 'the', 'space', 'off', 'stage', 'right', 'resembles', 'a', 'mini', 'ballet', 'studio', ':', 'there', 'is', 'a', 'barre', ',', 'a', 'small', 'dance', 'floor', ',', 'and', 'an', 'area', 'for', 'dancers', 'to', 'fix', 'their', 'shoes', '.'], ['although', 'she', 'is', 'not', 'in', 'the', 'evening', '’', 's', 'first', 'ballet', ',', 'ms.', 'kretzschmar', 'arrives', 'before', 'it', 'begins', 'and', 'uses', 'a', 'rasplike', 'tool', 'to', 'scuff', 'the', 'soles', 'of', 'her', 'point', 'shoes', 'so', 'they', 'won', '’', 't', 'slip', '.'], ['“', 'i', 'don', '’', 't', 'like', 'to', 'feel', 'rushed', 'before', 'the', 'show', ',', 'because', 'that', 'just', 'makes', 'me', 'more', 'stressed', ',', '”', 'she', 'explains', 'later', '.'], ['“', 'for', 'me', ',', 'i', 'take', 'that', 'time', 'so', 'i', 'can', 'kind', 'of', 'calm', 'down.', '”', 'next', 'to', 'her', ',', 'tiler', 'peck', ',', 'one', 'of', 'the', 'company', '’', 's', 'biggest', 'stars', ',', 'prepares', 'her', 'own', 'shoes', '.'], ['the', 'company', '’', 's', 'music', 'director', ',', 'andrew', 'litton', ',', 'arrives', 'in', 'his', 'tuxedo', 'before', 'heading', 'down', 'to', 'the', 'pit', '.'], ['“', 'hey', 'tiler', ',', 'merde', ',', '”', 'he', 'says', ',', 'employing', 'the', 'earthy', 'french', 'expression', 'ballet', 'dancers', 'use', 'to', 'wish', 'each', 'other', 'luck', '.'], ['“', 'any', 'last', 'requests', '?', '”', 'then', ',', 'although', 'she', 'has', 'been', 'dancing', 'much', 'of', 'the', 'day', ',', 'she', 'warms', 'up', 'again', ',', 'seemingly', 'oblivious', 'to', 'the', 'performance', 'taking', 'place', 'onstage', '30', 'feet', 'away', '.'], ['image', 'ms.', 'kretzschmar', 'in', '“', 'swan', 'lake.', '”', 'creditsasha', 'arutyunova', 'for', 'the', 'new', 'york', 'times', '8:13', 'p.m.', 'showtime', 'now', 'it', '’', 's', 'time', 'to', 'use', 'those', 'muscles', ':', 'first', 'as', 'a', 'swan', 'in', '“', 'swan', 'lake', ',', '”', 'the', 'evening', '’', 's', 'second', 'ballet', ',', 'and', ',', 'after', 'changing', 'into', 'a', 'modern', 'leotard', ',', 'in', 'balanchine', '’', 's', '“', 'the', 'four', 'temperaments.', '”', '9:40', 'p.m.', 'curtain', 'down', ',', 'home', 'leave', 'after', 'the', 'curtain', 'falls', ',', 'she', 'goes', 'home', 'for', 'a', 'dinner', 'of', 'leftover', 'pulled', 'pork', 'and', 'macaroni', 'and', 'cheese', ',', 'and', 'a', 'little', 'television', '—', 'which', 'she', 'watches', 'with', 'her', 'feet', 'in', 'an', 'ice', 'bucket', '.'], ['friday', '12:02', 'p.m.', 'peck', 'rehearsals', ':', 'hoodies', 'on', 'as', 'donald', 'j.', 'trump', 'is', 'being', 'inaugurated', 'in', 'washington', 'and', 'marchers', 'are', 'preparing', 'for', 'a', 'weekend', 'of', 'mass', 'protests', ',', 'ms.', 'kretzschmar', 'is', 'onstage', 'rehearsing', 'the', 'new', 'justin', 'peck', 'ballet', '—', 'which', 'feels', 'timely', ',', 'with', 'its', 'dancers', 'clad', 'in', 'shirts', 'and', 'hoodies', 'emblazoned', 'with', 'messages', 'including', '“', 'protest', ',', '”', '“', 'act', '”', 'and', '“', 'unite.', '”', 'experimenting', ',', 'she', 'flips', 'up', 'her', 'hood', 'as', 'she', 'dances', '.'], ['“', 'try', 'it', '!', '”', 'mr.', 'peck', 'says', 'encouragingly', '.'], ['“', 'i', 'don', '’', 't', 'mind', 'if', 'it', 'comes', 'off.', '”', 'saturday', '6:30', 'p.m.', 'sleepwalking', 'between', 'shows', 'although', 'she', 'has', 'just', 'danced', 'in', 'a', 'matinee', 'and', 'has', 'another', 'performance', 'that', 'evening', ',', 'ms.', 'kretzschmar', 'requests', 'another', '“', 'sonnambula', '”', 'rehearsal', 'sandwiched', 'between', 'shows', '.'], ['glenn', 'keenan', ',', 'the', 'ballet', 'master', ',', 'walks', 'her', 'through', 'it', 'again', 'and', 'again', '.'], ['ms.', 'keenan', 'asks', 'the', 'pianist', ',', 'elaine', 'chelton', ',', 'to', 'pick', 'up', 'at', 'the', 'moment', 'the', 'sleepwalker', 'touches', 'the', 'body', 'of', 'the', 'poet', '.'], ['“', 'do', 'you', 'have', 'where', 'she', 'bumps', 'into', 'the', 'body', '?', '”', 'she', 'asks', '.'], ['ms.', 'chelton', 'scans', 'her', 'piano', 'score', ',', 'which', 'is', 'annotated', 'with', 'all', 'manner', 'of', 'steps', 'and', 'stage', 'actions', '.'], ['“', 'i', 'have', 'where', 'she', 'steps', 'over', ',', '”', 'she', 'replies', ',', 'and', 'begins', 'playing', 'a', 'little', 'before', 'that', '.'], ['image', 'ms.', 'kretzschmar', ',', 'right', ',', 'during', 'a', 'rehearsal', 'for', 'justin', 'peck', '’', 's', '“', 'scherzo', 'fantastique', '”', 'at', 'the', 'david', 'h.', 'koch', 'theater', '.'], ['creditsasha', 'arutyunova', 'for', 'the', 'new', 'york', 'times', 'sunday', '5:15', 'p.m.', 'one', 'week', 'down', ',', 'two', 'debuts', 'to', 'come', 'after', 'dancing', 'two', 'more', 'roles', 'at', 'the', 'matinee', '—', 'as', 'a', 'male-eating', 'insect', 'in', 'jerome', 'robbins', '’', 's', '“', 'the', 'cage', ',', '”', 'and', 'in', 'the', 'corps', 'of', 'mr.', 'peck', '’', 's', '“', 'scherzo', 'fantastique', '”', '—', 'her', 'week', 'comes', 'to', 'an', 'end', '.'], ['she', 'pauses', 'to', 'reflect', 'on', 'the', 'week', 'ahead', ':', 'on', 'monday', ',', 'the', 'company', '’', 's', 'day', 'off', ',', 'she', 'will', 'start', 'a', 'class', 'at', 'fordham', ',', 'where', 'she', 'is', 'close', 'to', 'earning', 'a', 'degree', 'in', 'communications', ',', 'with', 'a', 'minor', 'in', 'english', '.'], ['then', 'back', 'to', 'dancing', ',', 'and', 'the', 'debuts', 'of', 'her', 'two', 'big', 'roles', ',', 'which', 'she', 'said', 'she', 'would', 'keep', 'honing', 'between', 'all', 'her', 'other', 'roles', '.'], ['“', 'i', 'want', 'to', 'feel', 'really', 'prepared', ',', '”', 'she', 'said', ',', 'adding', 'that', 'she', 'would', 'take', 'care', 'not', 'to', 'overdo', 'it', '.'], ['“', 'i', 'try', 'to', 'take', 'a', 'day-by-day', ',', 'hour-by-hour', 'approach', '.', '”']]\n"
     ]
    }
   ],
   "source": [
    "sentences = [\n",
    "    [word.lower() for word in nltk.word_tokenize(sentence)]\n",
    "    for sentence in nltk.sent_tokenize(f_read) # why this can be in reverse order? \n",
    "]\n",
    "print(sentences)"
   ]
  },
  {
   "cell_type": "code",
   "execution_count": 34,
   "id": "7b4566e8",
   "metadata": {},
   "outputs": [
    {
     "name": "stdout",
     "output_type": "stream",
     "text": [
      "[['with', 'apologies', 'to', 'james', 'brown', ',', 'the', 'hardest', 'working', 'people', 'in', 'show', 'business', 'may', 'well', 'be', 'ballet', 'dancers', '.'], ['and', 'at', 'new', 'york', 'city', 'ballet', ',', 'none', 'work', 'harder', 'than', 'the', 'dancers', 'in', 'its', 'lowest', 'rank', ',', 'the', 'corps', 'de', 'ballet', '.'], ['during', 'the', 'first', 'week', 'of', 'the', 'company', '’', 's', 'winter', 'season', ',', 'claire', 'kretzschmar', ',', '24', ',', 'a', 'rising', 'corps', 'member', ',', 'danced', 'in', 'all', 'seven', 'performances', ',', 'appearing', 'in', 'five', 'ballets', ',', 'sometimes', 'changing', 'costumes', 'at', 'intermission', 'to', 'dance', 'two', 'roles', 'in', 'a', 'night', '.'], ['but', 'her', 'work', 'onstage', 'did', 'not', 'even', 'begin', 'to', 'capture', 'the', 'stamina', 'required', 'to', 'be', 'in', 'the', 'corps', '.'], ['spending', 'a', 'week', 'shadowing', 'ms.', 'kretzschmar', 'was', 'exhausting', '—', 'she', 'gave', 'new', 'meaning', 'to', 'the', 'idea', 'of', 'being', 'on', 'your', 'feet', 'all', 'day', '.'], ['twelve-hour', 'days', 'at', 'the', 'david', 'h.', 'koch', 'theater', ',', 'the', 'company', '’', 's', 'lincoln', 'center', 'home', ',', 'were', 'hardly', 'unusual', ':', 'company', 'class', 'each', 'morning', 'was', 'followed', 'by', 'back-to-back-to-back', 'rehearsals', ',', 'with', 'occasional', 'breaks', 'for', 'costume', 'fittings', 'or', 'physical', 'therapy', ',', 'and', 'then', 'by', 'the', 'hair-makeup-costume-dance', 'routine', 'of', 'daily', 'performances', '.'], ['video', 'every', 'day', ',', 'claire', 'kretzschmar', 'of', 'the', 'new', 'york', 'city', 'ballet', 'goes', 'from', 'class', 'to', 'rehearsal', 'to', 'performance', 'at', 'a', 'breathless', 'pace', '.'], ['dance', 'alongside', 'her', 'busy', 'day', '.'], ['credit', 'photograph', 'by', 'sasha', 'arutyunova', 'for', 'the', 'new', 'york', 'times', '.'], ['technology', 'by', 'samsung', '.'], ['publish', 'date', 'january', '27', ',', '2017', 'this', 'weekend', 'will', 'be', 'even', 'more', 'frenetic', '.'], ['ms.', 'kretzschmar', 'will', 'appear', 'in', 'seven', 'ballets', 'from', 'friday', 'evening', 'to', 'sunday', 'afternoon', ',', 'when', 'she', 'faces', 'a', 'new', 'test', ':', 'taking', 'on', 'the', 'title', 'role', 'of', 'the', 'sleepwalker', 'in', 'george', 'balanchine', '’', 's', 'eerie', ',', 'proto-goth', 'ballet', '“', 'la', 'sonnambula.', '”', 'balanchine', ',', 'one', 'of', 'ballet', '’', 's', 'most', 'important', 'choreographers', ',', 'was', 'a', 'founder', 'of', 'city', 'ballet', ',', 'and', 'remains', 'its', 'guiding', 'spirit', 'more', 'than', 'three', 'decades', 'after', 'his', 'death', '.'], ['being', 'in', 'city', 'ballet', '’', 's', 'corps', 'is', 'not', 'like', 'being', 'a', 'member', 'of', 'a', 'chorus', 'line', ',', 'or', 'a', 'backup', 'singer', '.'], ['the', 'company', 'promotes', 'almost', 'all', 'of', 'its', 'stars', ',', 'the', 'principal', 'dancers', ',', 'from', 'within', '.'], ['so', 'while', 'the', 'corps', 'is', 'expected', 'to', 'be', 'able', 'to', 'move', 'in', 'startling', 'unison', ',', 'like', 'a', 'school', 'of', 'fish', ',', 'and', 'to', 'assemble', 'in', 'straight', 'lines', 'and', 'keep', 'all', 'rippling', 'swan', 'arms', 'parallel', ',', 'its', '54', 'members', 'are', 'also', 'competing', 'for', 'bigger', 'roles', 'and', 'promotions', '.'], ['“', 'there', 'is', 'an', 'element', 'of', 'competition', ',', 'and', 'people', 'get', 'different', 'opportunities', ',', 'but', 'everybody', 'just', 'wants', 'to', 'do', 'their', 'best', 'onstage', ',', 'and', 'everyone', 'wants', 'each', 'other', 'to', 'just', 'do', 'their', 'best', 'onstage', ',', '”', 'ms.', 'kretzschmar', 'said', 'during', 'a', 'break', 'between', 'rehearsals', 'last', 'week', '.'], ['“', 'we', 'have', 'all', 'experienced', 'so', 'many', 'extreme', 'highs', 'and', 'lows', 'that', 'it', '’', 's', 'almost', 'that', 'you', 'have', 'to', 'bond', 'with', 'this', 'group', 'of', 'people.', '”', 'here', 'are', 'scenes', 'from', 'one', 'week', 'in', 'the', 'busy', 'life', 'of', 'a', 'corps', 'member', '.'], ['image', 'ms.', 'kretzschmar', 'at', 'a', 'morning', 'company', 'dance', 'class', ',', 'followed', 'by', 'back-to-back-to-back', 'rehearsals', '.'], ['creditsasha', 'arutyunova', 'for', 'the', 'new', 'york', 'times', 'tuesday', ',', 'opening', 'day', '10:09', 'a.m.', 'company', 'class', ',', '‘', 'nothing', 'fancy', '’', 'ms.', 'kretzschmar', 'arrives', 'early', 'in', 'the', 'large', 'studio', 'on', 'the', 'koch', '’', 's', 'fifth', 'floor', ',', 'stakes', 'out', 'her', 'regular', 'spot', 'at', 'the', 'barre', 'in', 'the', 'back', 'corner', ',', 'and', 'wraps', 'her', 'toes', 'in', 'paper', 'towels', 'before', 'slipping', 'on', 'her', 'point', 'shoes', '.'], ['dancers', 'soon', 'fill', 'the', 'room', '.'], ['unity', 'phelan', 'and', 'brittany', 'pollack', 'bring', 'their', 'dogs', '.'], ['peter', 'martins', ',', 'the', 'company', '’', 's', 'ballet', 'master', 'in', 'chief', ',', 'strides', 'in', ',', 'coffee', 'cup', 'in', 'hand', ',', 'and', 'puts', 'the', 'whole', 'company', 'through', 'its', 'paces', ',', 'as', 'the', 'rehearsal', 'pianist', 'plays', 'gershwin', '.'], ['later', 'he', 'says', ':', '“', 'george', 'balanchine', 'used', 'to', 'tell', 'me', ',', '‘', 'you', 'know', 'what', 'class', 'is', 'about', ',', 'dear', '?', '’', 'he', 'said', ',', '‘', 'what', 'we', 'do', 'is', 'we', 'brush', 'teeth', ',', 'we', 'clean', 'teeth', 'every', 'morning', '.'], ['nothing', 'fancy', ':', 'we', 'just', 'keep', 'the', 'essentials', 'pure.', '’', '”', '11:30', 'a.m.', 'rehearsal', 'studio', 'after', 'class', ',', 'ms.', 'kretzschmar', '—', 'who', 'studied', 'ballet', 'while', 'growing', 'up', 'in', 'north', 'carolina', ',', 'came', 'to', 'new', 'york', 'to', 'study', 'at', 'the', 'school', 'of', 'american', 'ballet', ',', 'the', 'company', '’', 's', 'official', 'school', ',', 'and', 'joined', 'the', 'corps', 'in', '2011', '—', 'stays', 'in', 'the', 'studio', 'to', 'observe', 'a', 'rehearsal', 'of', 'a', 'dance', 'she', 'is', 'learning', ',', 'and', 'then', 'watches', 'a', 'new', 'pontus', 'lidberg', 'ballet', 'for', 'which', 'she', 'is', 'an', 'understudy', '.'], ['at', '1', 'p.m.', ',', 'she', 'finally', 'gets', 'on', 'her', 'toes', 'for', 'a', 'rehearsal', 'of', '“', 'fearful', 'symmetries', ',', '”', 'a', 'demanding', ',', 'propulsive', 'ballet', 'choreographed', 'by', 'mr.', 'martins', 'that', 'she', 'was', 'given', 'a', 'principal', 'role', 'in', '.'], ['she', 'pauses', 'to', 'ask', 'how', 'to', 'time', 'a', 'climactic', 'gesture', 'in', 'which', 'she', 'rests', 'her', 'head', 'on', 'her', 'partner', '’', 's', 'palm', '.'], ['“', 'it', '’', 's', 'a', 'hail', 'mary', ',', '”', 'the', 'ballet', 'master', ',', 'kathleen', 'tracey', ',', 'tells', 'her', '.'], ['“', 'hope', 'for', 'the', 'best', '!', '”', 'image', 'ms.', 'kretzschmar', 'in', 'a', 'rehearsal', 'at', 'the', 'david', 'h.', 'koch', 'theater', '.'], ['“', 'there', 'is', 'an', 'element', 'of', 'competition', ',', '”', 'she', 'said', ',', '“', 'but', 'everybody', 'just', 'wants', 'to', 'do', 'their', 'best', 'onstage', ',', 'and', 'everyone', 'wants', 'each', 'other', 'to', 'just', 'do', 'their', 'best', 'onstage.', '”', 'creditsasha', 'arutyunova', 'for', 'the', 'new', 'york', 'times', '2:20', 'p.m.', 'sleepwalking', 'onstage', 'the', 'wig', 'needs', 'combing', '.'], ['few', 'characters', 'in', 'ballet', 'make', 'as', 'lasting', 'an', 'impression', 'as', 'the', 'sleepwalker', ',', 'an', 'enigmatic', 'character', 'with', 'long', ',', 'flowing', 'hair', 'who', 'makes', 'her', 'unseeing', 'entrance', 'on', 'point', ',', 'holding', 'a', 'candle', '.'], ['but', 'when', 'ms.', 'kretzschmar', 'first', 'steps', 'out', 'onstage', 'in', 'her', 'new', 'wig', ',', 'the', 'action', 'briefly', 'stops', ',', 'as', 'the', 'ballet', 'masters', 'confer', 'with', 'suzy', 'alvarez', ',', 'the', 'company', '’', 's', 'hair', 'and', 'makeup', 'supervisor', ',', 'about', 'how', 'they', 'want', 'the', 'wig', 'to', 'look', '.'], ['it', 'was', 'the', 'wig', 'that', 'first', 'tipped', 'ms.', 'kretzschmar', 'off', 'that', 'she', 'was', 'getting', 'the', 'part', ';', 'even', 'before', 'the', 'casting', 'was', 'announced', 'she', 'was', 'summoned', 'to', 'a', 'fitting', '.'], ['“', 'i', 'don', '’', 't', 'think', 'they', 'would', 'give', 'me', 'a', 'wig', 'if', 'i', 'wasn', '’', 't', 'going', 'to', 'do', 'it', ',', '”', 'she', 'said', '.'], ['the', 'dancers', 'work', 'on', 'one-year', 'contracts', '.'], ['corps', 'members', 'earn', 'roughly', '$', '1,100', 'to', '$', '2,100', 'a', 'week', ',', 'depending', 'on', 'seniority', ',', 'and', 'are', 'typically', 'paid', 'for', '37', 'to', '39', 'weeks', 'a', 'year', '.'], ['since', 'ballet', 'careers', 'are', 'short', ',', 'many', 'are', 'in', 'a', 'hurry', 'to', 'make', 'their', 'marks', '.'], ['giving', 'corps', 'members', 'a', 'shot', 'at', 'big', 'roles', 'like', 'this', 'is', 'part', 'of', 'the', 'ethos', 'of', 'city', 'ballet', '.'], ['“', 'you', 'test', 'them', ',', '”', 'mr.', 'martins', 'said', '.'], ['“', 'what', 'are', 'they', 'made', 'of', '?'], ['am', 'i', 'wrong', ',', 'am', 'i', 'right', '?'], ['you', 'throw', 'little', 'bones', 'to', 'them', 'and', 'see', 'how', 'they', 'react.', '”', 'image', 'ms.', 'kretzschmar', 'at', 'a', 'dress', 'rehearsal', 'of', '“', 'swan', 'lake.', '”', 'creditsasha', 'arutyunova', 'for', 'the', 'new', 'york', 'times', '3:10', 'p.m.', 'costume', 'fitting', ':', 'tutus', 'and', 'hoodies', 'city', 'ballet', '’', 's', 'costume', 'shop', '—', 'acres', 'of', 'tulle', 'and', 'tutus', '—', 'is', 'tucked', 'away', 'on', 'the', 'eighth', 'floor', 'of', 'the', 'rose', 'building', 'at', 'lincoln', 'center', '.'], ['fittings', 'here', 'offer', 'a', 'brief', 'respite', 'from', 'the', 'theater', 'and', 'a', 'breath', 'of', 'fresh', 'air', '.'], ['ms.', 'kretzschmar', 'tries', 'on', 'the', 'black', 'hoodie', ',', 'skirt', 'and', 'high-top', 'sneakers', 'she', 'will', 'wear', 'in', 'justin', 'peck', '’', 's', 'new', 'ballet', ',', '“', 'the', 'times', 'are', 'racing.', '”', 'then', 'it', 'was', 'back', 'to', 'the', 'theater', 'for', 'one', 'more', 'rehearsal', 'and', 'then', 'opening', 'night', ',', 'where', 'she', 'danced', 'in', 'balanchine', '’', 's', '“', 'firebird', ',', '”', 'the', 'last', 'ballet', 'on', 'the', 'evening', '’', 's', 'triple', 'bill', '.'], ['image', 'a', '15-minute', 'physical', 'therapy', 'session', '.'], ['her', 'left', 'foot', ',', 'which', 'she', 'injured', 'in', 'the', 'past', ',', '“', 'gets', 'tighter', 'quicker', 'than', 'the', 'right', 'one', ',', '”', 'ms.', 'kretzschmar', 'says', '.'], ['creditsasha', 'arutyunova', 'for', 'the', 'new', 'york', 'times', 'wednesday', '1:30', 'p.m', '.'], ['physical', 'therapy', 'ballet', 'is', 'a', 'physically', 'punishing', ',', 'sometimes', 'dangerous', 'business', ':', 'injuries', 'are', 'all', 'too', 'common', 'and', 'can', 'lead', 'to', 'missed', 'performances', 'and', 'careers', 'cut', 'short', '.'], ['ms.', 'kretzschmar', 'signs', 'up', 'for', '15-minute', 'physical', 'therapy', 'sessions', 'in', 'a', 'small', 'space', 'resembling', 'a', 'doctor', '’', 's', 'office', 'on', 'the', 'fifth', 'floor', 'of', 'the', 'theater', '.'], ['she', 'lies', 'on', 'a', 'table', 'and', 'taryn', 'khong', ',', 'the', 'therapist', ',', 'manipulates', 'her', 'left', 'foot', ',', 'which', 'ms.', 'kretzschmar', 'has', 'injured', 'in', 'the', 'past', '.'], ['“', 'it', 'gets', 'tighter', 'quicker', 'than', 'the', 'right', 'one', ',', '”', 'she', 'said', '.'], ['4:18', 'p.m.', ':', '‘', 'fearful', 'symmetries', '’', 'rehearsal', 'ms.', 'kretzschmar', 'begins', 'her', 'third', 'stage', 'rehearsal', 'of', 'the', 'day', '.'], ['mr.', 'martins', ',', 'who', 'choreographed', 'the', 'piece', ',', 'makes', 'a', 'request', ':', 'at', 'one', 'point', ',', 'when', 'she', 'thrusts', 'her', 'leg', 'behind', 'her', ',', 'he', 'wants', 'her', 'to', 'bend', 'it', 'to', 'one', 'side', ',', 'forming', 'a', 'sort', 'of', 'arabesque-with-a-twist', '.'], ['ms.', 'tracey', ',', 'the', 'ballet', 'master', 'leading', 'the', 'rehearsal', ',', 'demonstrates', '.'], ['“', 'that', ',', 'exactly', ',', '”', 'mr.', 'martins', 'says', '.'], ['ms.', 'kretzschmar', 'tries', 'once', 'more', 'to', 'execute', 'the', 'twisting', 'step', ',', 'which', 'some', 'dancers', 'call', '“', 'crack', 'your', 'back', '”', 'because', 'it', 'looks', 'as', 'if', 'it', 'might', '.'], ['image', 'a', 'makeup', 'session', 'before', 'dancing', '“', 'swan', 'lake.', '”', 'creditsasha', 'arutyunova', 'for', 'the', 'new', 'york', 'times', '6:40', 'p.m', '.'], ['hair', 'and', 'makeup', ':', 'head', ',', 'meet', 'bun', 'time', 'to', 'become', 'a', 'swan', '.'], ['“', 'swan', 'lake', '”', 'is', 'one', 'of', 'the', 'most', 'famous', 'ballets', 'of', 'them', 'all', ',', 'and', 'balanchine', '’', 's', 'unusual', 'one-act', 'take', 'on', 'it', 'has', 'plenty', 'of', 'dancing', 'for', 'the', 'corps', 'members', 'playing', 'swans', '.'], ['sitting', 'at', 'a', 'light-bulb-ringed', 'mirror', 'in', 'the', 'hair', 'and', 'makeup', 'room', ',', 'ms.', 'kretzschmar', 'applies', 'eyeliner', 'and', 'puts', 'her', 'hair', 'in', 'a', 'neat', 'bun', '.'], ['a', 'hairdresser', 'calls', 'across', 'the', 'room', 'to', 'ask', 'all', 'the', 'swans', 'to', 'make', 'sure', 'that', 'some', 'hair', 'can', 'be', 'seen', 'beneath', 'their', 'matching', 'black', 'headdresses', ',', 'which', 'come', 'to', 'a', 'point', 'in', 'the', 'center', 'of', 'their', 'foreheads', '—', 'lest', 'they', 'start', 'to', 'look', 'like', 'a', 'member', 'of', '“', 'the', 'munsters', '”', 'family', 'with', 'widow', '’', 's', 'peaks', '.'], ['“', 'good', 'evening', 'everyone', ',', 'this', 'is', 'your', 'half-hour', 'call', ',', '”', 'a', 'voice', 'says', 'over', 'a', 'loudspeaker', '.'], ['7', 'p.m.', 'dressing', 'room', ':', 'living', 'out', 'of', 'a', 'theater', 'case', 'in', 'the', 'fourth-floor', 'dressing', 'room', 'she', 'shares', 'with', 'other', 'corps', 'women', ',', 'ms.', 'kretzschmar', 'pins', 'on', 'her', 'headdress', '.'], ['this', 'is', 'her', 'corner', 'of', 'the', 'theater', '.'], ['it', 'consists', 'of', 'a', 'mirror', ',', 'a', 'hanging', 'closet', 'shelf', 'crammed', 'with', 'leotards', ',', 'tights', 'and', 'clothes', ',', 'and', 'her', 'theater', 'case', '—', 'one', 'of', 'the', 'old-fashioned', 'black', 'rectangular', 'cases', 'that', 'dancers', 'live', 'out', 'of', 'and', 'tour', 'with', '.'], ['hers', 'sits', 'open', 'on', 'a', 'luggage', 'rack', ';', 'as', 'is', 'traditional', ',', 'the', 'inside', 'lid', 'is', 'decorated', 'with', 'personal', 'mementos', '.'], ['image', 'claire', 'kretzschmar', 'of', 'new', 'york', 'city', 'ballet', 'preparing', 'for', 'a', 'rehearsal', 'of', '“', 'the', 'four', 'temperaments', '”', 'at', 'the', 'david', 'h.', 'koch', 'theater', '.'], ['creditphotograph', 'by', 'sasha', 'arutyunova', 'for', 'the', 'new', 'york', 'times', '.'], ['technology', 'by', 'samsung', '.'], ['7:25', 'p.m', '.'], ['the', 'wings', 'the', 'space', 'off', 'stage', 'right', 'resembles', 'a', 'mini', 'ballet', 'studio', ':', 'there', 'is', 'a', 'barre', ',', 'a', 'small', 'dance', 'floor', ',', 'and', 'an', 'area', 'for', 'dancers', 'to', 'fix', 'their', 'shoes', '.'], ['although', 'she', 'is', 'not', 'in', 'the', 'evening', '’', 's', 'first', 'ballet', ',', 'ms.', 'kretzschmar', 'arrives', 'before', 'it', 'begins', 'and', 'uses', 'a', 'rasplike', 'tool', 'to', 'scuff', 'the', 'soles', 'of', 'her', 'point', 'shoes', 'so', 'they', 'won', '’', 't', 'slip', '.'], ['“', 'i', 'don', '’', 't', 'like', 'to', 'feel', 'rushed', 'before', 'the', 'show', ',', 'because', 'that', 'just', 'makes', 'me', 'more', 'stressed', ',', '”', 'she', 'explains', 'later', '.'], ['“', 'for', 'me', ',', 'i', 'take', 'that', 'time', 'so', 'i', 'can', 'kind', 'of', 'calm', 'down.', '”', 'next', 'to', 'her', ',', 'tiler', 'peck', ',', 'one', 'of', 'the', 'company', '’', 's', 'biggest', 'stars', ',', 'prepares', 'her', 'own', 'shoes', '.'], ['the', 'company', '’', 's', 'music', 'director', ',', 'andrew', 'litton', ',', 'arrives', 'in', 'his', 'tuxedo', 'before', 'heading', 'down', 'to', 'the', 'pit', '.'], ['“', 'hey', 'tiler', ',', 'merde', ',', '”', 'he', 'says', ',', 'employing', 'the', 'earthy', 'french', 'expression', 'ballet', 'dancers', 'use', 'to', 'wish', 'each', 'other', 'luck', '.'], ['“', 'any', 'last', 'requests', '?', '”', 'then', ',', 'although', 'she', 'has', 'been', 'dancing', 'much', 'of', 'the', 'day', ',', 'she', 'warms', 'up', 'again', ',', 'seemingly', 'oblivious', 'to', 'the', 'performance', 'taking', 'place', 'onstage', '30', 'feet', 'away', '.'], ['image', 'ms.', 'kretzschmar', 'in', '“', 'swan', 'lake.', '”', 'creditsasha', 'arutyunova', 'for', 'the', 'new', 'york', 'times', '8:13', 'p.m.', 'showtime', 'now', 'it', '’', 's', 'time', 'to', 'use', 'those', 'muscles', ':', 'first', 'as', 'a', 'swan', 'in', '“', 'swan', 'lake', ',', '”', 'the', 'evening', '’', 's', 'second', 'ballet', ',', 'and', ',', 'after', 'changing', 'into', 'a', 'modern', 'leotard', ',', 'in', 'balanchine', '’', 's', '“', 'the', 'four', 'temperaments.', '”', '9:40', 'p.m.', 'curtain', 'down', ',', 'home', 'leave', 'after', 'the', 'curtain', 'falls', ',', 'she', 'goes', 'home', 'for', 'a', 'dinner', 'of', 'leftover', 'pulled', 'pork', 'and', 'macaroni', 'and', 'cheese', ',', 'and', 'a', 'little', 'television', '—', 'which', 'she', 'watches', 'with', 'her', 'feet', 'in', 'an', 'ice', 'bucket', '.'], ['friday', '12:02', 'p.m.', 'peck', 'rehearsals', ':', 'hoodies', 'on', 'as', 'donald', 'j.', 'trump', 'is', 'being', 'inaugurated', 'in', 'washington', 'and', 'marchers', 'are', 'preparing', 'for', 'a', 'weekend', 'of', 'mass', 'protests', ',', 'ms.', 'kretzschmar', 'is', 'onstage', 'rehearsing', 'the', 'new', 'justin', 'peck', 'ballet', '—', 'which', 'feels', 'timely', ',', 'with', 'its', 'dancers', 'clad', 'in', 'shirts', 'and', 'hoodies', 'emblazoned', 'with', 'messages', 'including', '“', 'protest', ',', '”', '“', 'act', '”', 'and', '“', 'unite.', '”', 'experimenting', ',', 'she', 'flips', 'up', 'her', 'hood', 'as', 'she', 'dances', '.'], ['“', 'try', 'it', '!', '”', 'mr.', 'peck', 'says', 'encouragingly', '.'], ['“', 'i', 'don', '’', 't', 'mind', 'if', 'it', 'comes', 'off.', '”', 'saturday', '6:30', 'p.m.', 'sleepwalking', 'between', 'shows', 'although', 'she', 'has', 'just', 'danced', 'in', 'a', 'matinee', 'and', 'has', 'another', 'performance', 'that', 'evening', ',', 'ms.', 'kretzschmar', 'requests', 'another', '“', 'sonnambula', '”', 'rehearsal', 'sandwiched', 'between', 'shows', '.'], ['glenn', 'keenan', ',', 'the', 'ballet', 'master', ',', 'walks', 'her', 'through', 'it', 'again', 'and', 'again', '.'], ['ms.', 'keenan', 'asks', 'the', 'pianist', ',', 'elaine', 'chelton', ',', 'to', 'pick', 'up', 'at', 'the', 'moment', 'the', 'sleepwalker', 'touches', 'the', 'body', 'of', 'the', 'poet', '.'], ['“', 'do', 'you', 'have', 'where', 'she', 'bumps', 'into', 'the', 'body', '?', '”', 'she', 'asks', '.'], ['ms.', 'chelton', 'scans', 'her', 'piano', 'score', ',', 'which', 'is', 'annotated', 'with', 'all', 'manner', 'of', 'steps', 'and', 'stage', 'actions', '.'], ['“', 'i', 'have', 'where', 'she', 'steps', 'over', ',', '”', 'she', 'replies', ',', 'and', 'begins', 'playing', 'a', 'little', 'before', 'that', '.'], ['image', 'ms.', 'kretzschmar', ',', 'right', ',', 'during', 'a', 'rehearsal', 'for', 'justin', 'peck', '’', 's', '“', 'scherzo', 'fantastique', '”', 'at', 'the', 'david', 'h.', 'koch', 'theater', '.'], ['creditsasha', 'arutyunova', 'for', 'the', 'new', 'york', 'times', 'sunday', '5:15', 'p.m.', 'one', 'week', 'down', ',', 'two', 'debuts', 'to', 'come', 'after', 'dancing', 'two', 'more', 'roles', 'at', 'the', 'matinee', '—', 'as', 'a', 'male-eating', 'insect', 'in', 'jerome', 'robbins', '’', 's', '“', 'the', 'cage', ',', '”', 'and', 'in', 'the', 'corps', 'of', 'mr.', 'peck', '’', 's', '“', 'scherzo', 'fantastique', '”', '—', 'her', 'week', 'comes', 'to', 'an', 'end', '.'], ['she', 'pauses', 'to', 'reflect', 'on', 'the', 'week', 'ahead', ':', 'on', 'monday', ',', 'the', 'company', '’', 's', 'day', 'off', ',', 'she', 'will', 'start', 'a', 'class', 'at', 'fordham', ',', 'where', 'she', 'is', 'close', 'to', 'earning', 'a', 'degree', 'in', 'communications', ',', 'with', 'a', 'minor', 'in', 'english', '.'], ['then', 'back', 'to', 'dancing', ',', 'and', 'the', 'debuts', 'of', 'her', 'two', 'big', 'roles', ',', 'which', 'she', 'said', 'she', 'would', 'keep', 'honing', 'between', 'all', 'her', 'other', 'roles', '.'], ['“', 'i', 'want', 'to', 'feel', 'really', 'prepared', ',', '”', 'she', 'said', ',', 'adding', 'that', 'she', 'would', 'take', 'care', 'not', 'to', 'overdo', 'it', '.'], ['“', 'i', 'try', 'to', 'take', 'a', 'day-by-day', ',', 'hour-by-hour', 'approach', '.', '”']]\n"
     ]
    }
   ],
   "source": [
    "# more sequential way, but apparently less readable according to chatGPT\n",
    "def tokenize_sentence(sentence):\n",
    "    return [word.lower() for word in nltk.word_tokenize(sentence)]\n",
    "\n",
    "sentences = nltk.sent_tokenize(f_read)\n",
    "tokenized_sentences = [tokenize_sentence(sentence) for sentence in sentences]\n",
    "\n",
    "print(tokenized_sentences)"
   ]
  },
  {
   "cell_type": "code",
   "execution_count": 6,
   "id": "3fa703b2",
   "metadata": {},
   "outputs": [
    {
     "data": {
      "text/plain": [
       "PosixPath('/Users/yutian/Dropbox/Python/atap/code')"
      ]
     },
     "execution_count": 6,
     "metadata": {},
     "output_type": "execute_result"
    }
   ],
   "source": [
    "from pathlib import Path\n",
    "Path.cwd()\n",
    "# ??? how to set the path for a project?"
   ]
  },
  {
   "cell_type": "code",
   "execution_count": 9,
   "id": "e921c94b",
   "metadata": {},
   "outputs": [
    {
     "name": "stdout",
     "output_type": "stream",
     "text": [
      "39.269% unknown (48 sentences)\n",
      "52.994% female (38 sentences)\n",
      "4.393% both (2 sentences)\n",
      "3.344% male (3 sentences)\n"
     ]
    }
   ],
   "source": [
    "if __name__ == '__main__':\n",
    "    with open('/Users/yutian/Dropbox/Python/atap/snippets/ch01/ballet.txt', 'r') as f:\n",
    "        parse_gender(f.read())"
   ]
  }
 ],
 "metadata": {
  "kernelspec": {
   "display_name": "Python 3",
   "language": "python",
   "name": "python3"
  },
  "language_info": {
   "codemirror_mode": {
    "name": "ipython",
    "version": 3
   },
   "file_extension": ".py",
   "mimetype": "text/x-python",
   "name": "python",
   "nbconvert_exporter": "python",
   "pygments_lexer": "ipython3",
   "version": "3.8.11"
  }
 },
 "nbformat": 4,
 "nbformat_minor": 5
}
